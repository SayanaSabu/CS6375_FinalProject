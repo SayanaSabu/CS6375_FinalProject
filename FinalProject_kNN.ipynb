{
 "cells": [
  {
   "cell_type": "code",
   "execution_count": 1,
   "id": "4a15c8eb",
   "metadata": {},
   "outputs": [],
   "source": [
    "# import libraries\n",
    "import pandas as pd\n",
    "import numpy as np\n",
    "import matplotlib.pyplot as plt"
   ]
  },
  {
   "cell_type": "code",
   "execution_count": 2,
   "id": "79cc26bf",
   "metadata": {},
   "outputs": [],
   "source": [
    "# import diabetes dataset from path\n",
    "diabetes = pd.read_csv('/Users/sayanasabu/Downloads/diabetes.csv')"
   ]
  },
  {
   "cell_type": "code",
   "execution_count": 3,
   "id": "734041aa",
   "metadata": {},
   "outputs": [
    {
     "name": "stdout",
     "output_type": "stream",
     "text": [
      "   Pregnancies  Glucose  BloodPressure  SkinThickness  Insulin   BMI  \\\n",
      "0            6      148             72             35        0  33.6   \n",
      "1            1       85             66             29        0  26.6   \n",
      "2            8      183             64              0        0  23.3   \n",
      "3            1       89             66             23       94  28.1   \n",
      "4            0      137             40             35      168  43.1   \n",
      "\n",
      "   DiabetesPedigreeFunction  Age  Outcome  \n",
      "0                     0.627   50        1  \n",
      "1                     0.351   31        0  \n",
      "2                     0.672   32        1  \n",
      "3                     0.167   21        0  \n",
      "4                     2.288   33        1  \n"
     ]
    }
   ],
   "source": [
    "# print head\n",
    "print(diabetes.head())"
   ]
  },
  {
   "cell_type": "code",
   "execution_count": 4,
   "id": "2d73c624",
   "metadata": {},
   "outputs": [],
   "source": [
    "# import train_test_split\n",
    "from sklearn.model_selection import train_test_split\n",
    "# set X equal to all of the feature values\n",
    "X = diabetes.to_numpy()\n",
    "# remove 'Outcome' column from variable X\n",
    "X = np.delete(X, 8, 1)\n",
    "# set y equal to the value of the 'Outcome' column\n",
    "y = diabetes['Outcome'].to_numpy()\n",
    "# create train and test set\n",
    "X_train, X_test, y_train, y_test = train_test_split(X, y, test_size=0.2, random_state=0)"
   ]
  },
  {
   "cell_type": "markdown",
   "id": "d04aa0b1",
   "metadata": {},
   "source": [
    "# Normalizing the features is vital to the kNN algorithm"
   ]
  },
  {
   "cell_type": "code",
   "execution_count": 5,
   "id": "ea2044c9",
   "metadata": {},
   "outputs": [],
   "source": [
    "# normalize the features\n",
    "from sklearn import preprocessing, model_selection\n",
    "\n",
    "scaler = preprocessing.StandardScaler().fit(X_train)\n",
    "\n",
    "X_train = scaler.transform(X_train)\n",
    "X_test = scaler.transform(X_test)"
   ]
  },
  {
   "cell_type": "code",
   "execution_count": 6,
   "id": "f6184617",
   "metadata": {},
   "outputs": [],
   "source": [
    "# k-Nearest Neighbors\n",
    "# k-Nearest Neighbors using scikit-learn\n",
    "from sklearn.neighbors import KNeighborsClassifier\n",
    "# fit model based on training data with NN = 3\n",
    "knn = KNeighborsClassifier(n_neighbors=3)\n",
    "knn.fit(X_train, y_train)\n",
    "# y_hat = our predictions based on X_test on the model learned from training data\n",
    "y_hat = knn.predict(X_test)"
   ]
  },
  {
   "cell_type": "code",
   "execution_count": 7,
   "id": "92237d36",
   "metadata": {},
   "outputs": [
    {
     "name": "stdout",
     "output_type": "stream",
     "text": [
      "------ For KNN with n_neighbors = 3 ------\n",
      "Accuracy score with n_neighbors = 3: 0.7402597402597403\n",
      "Precision score with n_neighbors = 3: 0.5777777777777777\n",
      "Recall score with n_neighbors = 3: 0.5531914893617021\n"
     ]
    }
   ],
   "source": [
    "# print metrics\n",
    "from sklearn import metrics\n",
    "print('------ For KNN with n_neighbors = 3 ------')\n",
    "print('Accuracy score with n_neighbors = 3:', metrics.accuracy_score(y_test, y_hat))\n",
    "print('Precision score with n_neighbors = 3:', metrics.precision_score(y_test, y_hat))\n",
    "print('Recall score with n_neighbors = 3:', metrics.recall_score(y_test, y_hat))"
   ]
  },
  {
   "cell_type": "code",
   "execution_count": 8,
   "id": "f8d7803f",
   "metadata": {},
   "outputs": [
    {
     "name": "stdout",
     "output_type": "stream",
     "text": [
      "------ For KNN with n_neighbors = 5 ------\n",
      "Accuracy score with n_neighbors = 5: 0.7987012987012987\n",
      "Precision score with n_neighbors = 5: 0.6818181818181818\n",
      "Recall score with n_neighbors = 5: 0.6382978723404256\n"
     ]
    }
   ],
   "source": [
    "# fit model based on training data with NN = 5\n",
    "knn = KNeighborsClassifier(n_neighbors=5)\n",
    "knn.fit(X_train, y_train)\n",
    "# y_hat = our predictions based on X_test on the model learned from training data\n",
    "y_hat = knn.predict(X_test)\n",
    "\n",
    "# print metrics\n",
    "from sklearn import metrics\n",
    "print('------ For KNN with n_neighbors = 5 ------')\n",
    "print('Accuracy score with n_neighbors = 5:', metrics.accuracy_score(y_test, y_hat))\n",
    "print('Precision score with n_neighbors = 5:', metrics.precision_score(y_test, y_hat))\n",
    "print('Recall score with n_neighbors = 5:', metrics.recall_score(y_test, y_hat))"
   ]
  },
  {
   "cell_type": "code",
   "execution_count": 9,
   "id": "e371cf2a",
   "metadata": {},
   "outputs": [
    {
     "name": "stdout",
     "output_type": "stream",
     "text": [
      "------ For KNN with n_neighbors = 7 ------\n",
      "Accuracy score with n_neighbors = 7: 0.7727272727272727\n",
      "Precision score with n_neighbors = 7: 0.6363636363636364\n",
      "Recall score with n_neighbors = 7: 0.5957446808510638\n"
     ]
    }
   ],
   "source": [
    "# fit model based on training data with NN = 7\n",
    "knn = KNeighborsClassifier(n_neighbors=7)\n",
    "knn.fit(X_train, y_train)\n",
    "# y_hat = our predictions based on X_test on the model learned from training data\n",
    "y_hat = knn.predict(X_test)\n",
    "\n",
    "# print metrics\n",
    "from sklearn import metrics\n",
    "print('------ For KNN with n_neighbors = 7 ------')\n",
    "print('Accuracy score with n_neighbors = 7:', metrics.accuracy_score(y_test, y_hat))\n",
    "print('Precision score with n_neighbors = 7:', metrics.precision_score(y_test, y_hat))\n",
    "print('Recall score with n_neighbors = 7:', metrics.recall_score(y_test, y_hat))"
   ]
  },
  {
   "cell_type": "markdown",
   "id": "554a3a3d",
   "metadata": {},
   "source": [
    "With varying accuracy scores, let us try to find a to find the optimum K value. "
   ]
  },
  {
   "cell_type": "markdown",
   "id": "7860c9c3",
   "metadata": {},
   "source": [
    "Let us perform a cross validation on an array of K values. "
   ]
  },
  {
   "cell_type": "code",
   "execution_count": 10,
   "id": "6c53ea36",
   "metadata": {},
   "outputs": [],
   "source": [
    "# k values array\n",
    "k_values = [1, 2, 3, 4, 5, 6, 7, 8, 9, 10, 11, 12, 13, 14, 15, 16, 17, 18, 19, 20, 21, 22, 23, 24, 25]\n",
    "# array to store the accuracies of all the k_values\n",
    "accuracies = []"
   ]
  },
  {
   "cell_type": "code",
   "execution_count": 11,
   "id": "48a58304",
   "metadata": {},
   "outputs": [],
   "source": [
    "# normalize the features\n",
    "from sklearn import preprocessing\n",
    "\n",
    "scaler = preprocessing.StandardScaler()\n",
    "X = scaler.fit_transform(X)"
   ]
  },
  {
   "cell_type": "code",
   "execution_count": 12,
   "id": "9b2d708a",
   "metadata": {},
   "outputs": [],
   "source": [
    "# iterate through k_values array\n",
    "for k in k_values:\n",
    "    # create knn var with n_neighbors = k\n",
    "    knn = KNeighborsClassifier(n_neighbors=k)\n",
    "    # perform cross validation\n",
    "    acc_score = model_selection.cross_val_score(knn, X, y)\n",
    "    # append mean of accuracy score to accuracies array\n",
    "    accuracies.append(np.mean(acc_score))"
   ]
  },
  {
   "cell_type": "code",
   "execution_count": 13,
   "id": "b1e5cc1a",
   "metadata": {},
   "outputs": [
    {
     "data": {
      "image/png": "[encoded data removed]",
      "text/plain": [
       "<Figure size 432x288 with 1 Axes>"
      ]
     },
     "metadata": {
      "needs_background": "light"
     },
     "output_type": "display_data"
    }
   ],
   "source": [
    "# plot graph of all k_values\n",
    "plt.plot(k_values, accuracies, marker='o')\n",
    "plt.title('Accuracy Scores vs K Values')\n",
    "plt.xlabel('K Values')\n",
    "plt.ylabel('Accuracy Scores')\n",
    "plt.show()"
   ]
  },
  {
   "cell_type": "code",
   "execution_count": 14,
   "id": "2d88a783",
   "metadata": {},
   "outputs": [
    {
     "name": "stdout",
     "output_type": "stream",
     "text": [
      "Optimum K value: 17\n"
     ]
    }
   ],
   "source": [
    "# find optimum k by getting the argmax of acc array\n",
    "# optimum k value will be the one that produces the highest accuracy\n",
    "opt_k = k_values[np.argmax(accuracies)]\n",
    "print('Optimum K value:', opt_k)"
   ]
  },
  {
   "cell_type": "code",
   "execution_count": 15,
   "id": "6ebd431c",
   "metadata": {},
   "outputs": [
    {
     "data": {
      "text/html": [
       "<style>#sk-container-id-1 {color: black;background-color: white;}#sk-container-id-1 pre{padding: 0;}#sk-container-id-1 div.sk-toggleable {background-color: white;}#sk-container-id-1 label.sk-toggleable__label {cursor: pointer;display: block;width: 100%;margin-bottom: 0;padding: 0.3em;box-sizing: border-box;text-align: center;}#sk-container-id-1 label.sk-toggleable__label-arrow:before {content: \"▸\";float: left;margin-right: 0.25em;color: #696969;}#sk-container-id-1 label.sk-toggleable__label-arrow:hover:before {color: black;}#sk-container-id-1 div.sk-estimator:hover label.sk-toggleable__label-arrow:before {color: black;}#sk-container-id-1 div.sk-toggleable__content {max-height: 0;max-width: 0;overflow: hidden;text-align: left;background-color: #f0f8ff;}#sk-container-id-1 div.sk-toggleable__content pre {margin: 0.2em;color: black;border-radius: 0.25em;background-color: #f0f8ff;}#sk-container-id-1 input.sk-toggleable__control:checked~div.sk-toggleable__content {max-height: 200px;max-width: 100%;overflow: auto;}#sk-container-id-1 input.sk-toggleable__control:checked~label.sk-toggleable__label-arrow:before {content: \"▾\";}#sk-container-id-1 div.sk-estimator input.sk-toggleable__control:checked~label.sk-toggleable__label {background-color: #d4ebff;}#sk-container-id-1 div.sk-label input.sk-toggleable__control:checked~label.sk-toggleable__label {background-color: #d4ebff;}#sk-container-id-1 input.sk-hidden--visually {border: 0;clip: rect(1px 1px 1px 1px);clip: rect(1px, 1px, 1px, 1px);height: 1px;margin: -1px;overflow: hidden;padding: 0;position: absolute;width: 1px;}#sk-container-id-1 div.sk-estimator {font-family: monospace;background-color: #f0f8ff;border: 1px dotted black;border-radius: 0.25em;box-sizing: border-box;margin-bottom: 0.5em;}#sk-container-id-1 div.sk-estimator:hover {background-color: #d4ebff;}#sk-container-id-1 div.sk-parallel-item::after {content: \"\";width: 100%;border-bottom: 1px solid gray;flex-grow: 1;}#sk-container-id-1 div.sk-label:hover label.sk-toggleable__label {background-color: #d4ebff;}#sk-container-id-1 div.sk-serial::before {content: \"\";position: absolute;border-left: 1px solid gray;box-sizing: border-box;top: 0;bottom: 0;left: 50%;z-index: 0;}#sk-container-id-1 div.sk-serial {display: flex;flex-direction: column;align-items: center;background-color: white;padding-right: 0.2em;padding-left: 0.2em;position: relative;}#sk-container-id-1 div.sk-item {position: relative;z-index: 1;}#sk-container-id-1 div.sk-parallel {display: flex;align-items: stretch;justify-content: center;background-color: white;position: relative;}#sk-container-id-1 div.sk-item::before, #sk-container-id-1 div.sk-parallel-item::before {content: \"\";position: absolute;border-left: 1px solid gray;box-sizing: border-box;top: 0;bottom: 0;left: 50%;z-index: -1;}#sk-container-id-1 div.sk-parallel-item {display: flex;flex-direction: column;z-index: 1;position: relative;background-color: white;}#sk-container-id-1 div.sk-parallel-item:first-child::after {align-self: flex-end;width: 50%;}#sk-container-id-1 div.sk-parallel-item:last-child::after {align-self: flex-start;width: 50%;}#sk-container-id-1 div.sk-parallel-item:only-child::after {width: 0;}#sk-container-id-1 div.sk-dashed-wrapped {border: 1px dashed gray;margin: 0 0.4em 0.5em 0.4em;box-sizing: border-box;padding-bottom: 0.4em;background-color: white;}#sk-container-id-1 div.sk-label label {font-family: monospace;font-weight: bold;display: inline-block;line-height: 1.2em;}#sk-container-id-1 div.sk-label-container {text-align: center;}#sk-container-id-1 div.sk-container {/* jupyter's `normalize.less` sets `[hidden] { display: none; }` but bootstrap.min.css set `[hidden] { display: none !important; }` so we also need the `!important` here to be able to override the default hidden behavior on the sphinx rendered scikit-learn.org. See: https://github.com/scikit-learn/scikit-learn/issues/21755 */display: inline-block !important;position: relative;}#sk-container-id-1 div.sk-text-repr-fallback {display: none;}</style><div id=\"sk-container-id-1\" class=\"sk-top-container\"><div class=\"sk-text-repr-fallback\"><pre>KNeighborsClassifier(n_neighbors=17)</pre><b>In a Jupyter environment, please rerun this cell to show the HTML representation or trust the notebook. <br />On GitHub, the HTML representation is unable to render, please try loading this page with nbviewer.org.</b></div><div class=\"sk-container\" hidden><div class=\"sk-item\"><div class=\"sk-estimator sk-toggleable\"><input class=\"sk-toggleable__control sk-hidden--visually\" id=\"sk-estimator-id-1\" type=\"checkbox\" checked><label for=\"sk-estimator-id-1\" class=\"sk-toggleable__label sk-toggleable__label-arrow\">KNeighborsClassifier</label><div class=\"sk-toggleable__content\"><pre>KNeighborsClassifier(n_neighbors=17)</pre></div></div></div></div></div>"
      ],
      "text/plain": [
       "KNeighborsClassifier(n_neighbors=17)"
      ]
     },
     "execution_count": 15,
     "metadata": {},
     "output_type": "execute_result"
    }
   ],
   "source": [
    "# fit model based on training data with NN = opt_k\n",
    "knn_with_opt_k = KNeighborsClassifier(n_neighbors=opt_k)\n",
    "knn_with_opt_k.fit(X_train, y_train)"
   ]
  },
  {
   "cell_type": "code",
   "execution_count": 16,
   "id": "78219c5a",
   "metadata": {},
   "outputs": [
    {
     "name": "stdout",
     "output_type": "stream",
     "text": [
      "------ For KNN with n_neighbors =  17 ------\n",
      "Accuracy score with n_neighbors = 17 : 0.8116883116883117\n",
      "Precision score with n_neighbors = 17 : 0.725\n",
      "Recall score with n_neighbors = 17 : 0.6170212765957447\n"
     ]
    }
   ],
   "source": [
    "# y_hat = our predictions based on X_test on the model learned from training data\n",
    "y_hat_with_opt_k = knn_with_opt_k.predict(X_test)\n",
    "print('------ For KNN with n_neighbors = ', opt_k, '------')\n",
    "print('Accuracy score with n_neighbors =', opt_k, ':', metrics.accuracy_score(y_test, y_hat_with_opt_k))\n",
    "print('Precision score with n_neighbors =', opt_k, ':', metrics.precision_score(y_test, y_hat_with_opt_k))\n",
    "print('Recall score with n_neighbors =', opt_k, ':', metrics.recall_score(y_test, y_hat_with_opt_k))"
   ]
  },
  {
   "cell_type": "markdown",
   "id": "78523c4c",
   "metadata": {},
   "source": [
    "While, K = 17 produced the highest accuracy, it did lower the recall score compared to when K = 5. This could be to do undefitting as more datapoints are taken into consideration when trying to classify a new point. "
   ]
  },
  {
   "cell_type": "code",
   "execution_count": null,
   "id": "8e972c0c",
   "metadata": {},
   "outputs": [],
   "source": []
  }
 ],
 "metadata": {
  "kernelspec": {
   "display_name": "Python 3",
   "language": "python",
   "name": "python3"
  },
  "language_info": {
   "codemirror_mode": {
    "name": "ipython",
    "version": 3
   },
   "file_extension": ".py",
   "mimetype": "text/x-python",
   "name": "python",
   "nbconvert_exporter": "python",
   "pygments_lexer": "ipython3",
   "version": "3.8.8"
  }
 },
 "nbformat": 4,
 "nbformat_minor": 5
}
