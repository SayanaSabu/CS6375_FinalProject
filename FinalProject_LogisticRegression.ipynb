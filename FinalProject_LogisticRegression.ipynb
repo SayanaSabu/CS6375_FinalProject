{
 "cells": [
  {
   "cell_type": "code",
   "execution_count": 2,
   "id": "5a38d35b",
   "metadata": {},
   "outputs": [],
   "source": [
    "# import libraries\n",
    "import pandas as pd\n",
    "import numpy as np\n",
    "import matplotlib.pyplot as plt"
   ]
  },
  {
   "cell_type": "code",
   "execution_count": 3,
   "id": "d5dbb554",
   "metadata": {},
   "outputs": [],
   "source": [
    "# import diabetes dataset from path\n",
    "diabetes = pd.read_csv('/Users/sayanasabu/Downloads/diabetes.csv')"
   ]
  },
  {
   "cell_type": "code",
   "execution_count": 4,
   "id": "e7f60004",
   "metadata": {},
   "outputs": [
    {
     "name": "stdout",
     "output_type": "stream",
     "text": [
      "   Pregnancies  Glucose  BloodPressure  SkinThickness  Insulin   BMI  \\\n",
      "0            6      148             72             35        0  33.6   \n",
      "1            1       85             66             29        0  26.6   \n",
      "2            8      183             64              0        0  23.3   \n",
      "3            1       89             66             23       94  28.1   \n",
      "4            0      137             40             35      168  43.1   \n",
      "\n",
      "   DiabetesPedigreeFunction  Age  Outcome  \n",
      "0                     0.627   50        1  \n",
      "1                     0.351   31        0  \n",
      "2                     0.672   32        1  \n",
      "3                     0.167   21        0  \n",
      "4                     2.288   33        1  \n"
     ]
    }
   ],
   "source": [
    "# print head\n",
    "print(diabetes.head())"
   ]
  },
  {
   "cell_type": "code",
   "execution_count": 5,
   "id": "1821b23e",
   "metadata": {},
   "outputs": [
    {
     "name": "stdout",
     "output_type": "stream",
     "text": [
      "(614, 8)\n",
      "(154, 8)\n",
      "(614,)\n",
      "(154,)\n"
     ]
    }
   ],
   "source": [
    "# import train_test_split\n",
    "from sklearn.model_selection import train_test_split\n",
    "# set X equal to all of the feature values\n",
    "X = diabetes.to_numpy()\n",
    "# remove 'Outcome' column from variable X\n",
    "X = np.delete(X, 8, 1)\n",
    "# set y equal to the value of the 'Outcome' column\n",
    "y = diabetes['Outcome'].to_numpy()\n",
    "# create train and test set\n",
    "X_train, X_test, y_train, y_test = train_test_split(X, y, test_size=0.2, random_state=0)\n",
    "# print shape of train and test set\n",
    "print(X_train.shape)\n",
    "print(X_test.shape)\n",
    "print(y_train.shape)\n",
    "print(y_test.shape)"
   ]
  },
  {
   "cell_type": "code",
   "execution_count": 6,
   "id": "5b32f572",
   "metadata": {},
   "outputs": [],
   "source": [
    "# normalize the features\n",
    "from sklearn import preprocessing\n",
    "scaler = preprocessing.StandardScaler().fit(X_train)\n",
    "\n",
    "X_train = scaler.transform(X_train)\n",
    "X_test = scaler.transform(X_test)"
   ]
  },
  {
   "cell_type": "code",
   "execution_count": 7,
   "id": "40686530",
   "metadata": {},
   "outputs": [],
   "source": [
    "# Logistic Regression\n",
    "# Logistic Regression using scikit-learn\n",
    "from sklearn.linear_model import LogisticRegression\n",
    "# fit model based on training data\n",
    "log_reg = LogisticRegression(random_state=0).fit(X_train, y_train)\n",
    "# y_hat = our predictions based on X_test on the model learned from training data\n",
    "y_hat = log_reg.predict(X_test)"
   ]
  },
  {
   "cell_type": "code",
   "execution_count": 8,
   "id": "2c0fac1d",
   "metadata": {},
   "outputs": [
    {
     "name": "stdout",
     "output_type": "stream",
     "text": [
      "---------ACTUAL OUTCOME VALUES---------\n",
      "[1 0 0 1 0 0 1 1 0 0 1 1 0 0 0 0 1 0 0 0 1 1 0 0 0 0 0 0 0 0 0 0 0 0 0 1 1\n",
      " 0 0 0 0 0 0 1 1 0 0 1 1 1 0 0 1 0 0 0 0 1 1 1 1 0 0 1 1 1 1 0 0 0 0 0 0 0\n",
      " 1 0 0 0 0 0 0 0 0 0 0 0 1 0 1 0 0 0 0 0 0 0 1 0 1 1 0 0 0 0 0 1 0 0 0 1 0\n",
      " 1 1 1 1 1 0 0 0 1 0 0 0 0 0 0 0 1 0 0 0 0 0 1 0 1 0 1 1 0 0 0 0 0 1 0 0 0\n",
      " 0 1 0 1 0 0]\n"
     ]
    }
   ],
   "source": [
    "print('---------ACTUAL OUTCOME VALUES---------')\n",
    "print(y_test)"
   ]
  },
  {
   "cell_type": "code",
   "execution_count": 9,
   "id": "46be1803",
   "metadata": {},
   "outputs": [
    {
     "name": "stdout",
     "output_type": "stream",
     "text": [
      "--------PREDICTED OUTCOME VALUES--------\n",
      "[1 0 0 1 0 0 1 1 0 0 1 1 0 0 0 0 1 0 0 0 1 0 0 0 0 0 0 1 0 0 0 0 0 0 0 1 0\n",
      " 0 0 1 0 0 0 1 1 0 0 0 0 0 0 0 1 0 0 0 0 1 0 0 1 0 0 1 1 1 1 0 0 0 0 0 0 1\n",
      " 1 0 0 1 0 0 0 0 0 0 0 0 0 0 1 0 0 0 0 0 1 0 0 1 1 0 0 0 0 0 1 0 0 0 0 1 0\n",
      " 0 1 0 1 1 0 1 0 1 0 0 0 0 0 0 0 0 0 0 0 0 0 1 0 0 0 0 1 0 0 1 0 0 0 0 0 0\n",
      " 0 0 0 1 0 0]\n"
     ]
    }
   ],
   "source": [
    "print('--------PREDICTED OUTCOME VALUES--------')\n",
    "print(y_hat)"
   ]
  },
  {
   "cell_type": "code",
   "execution_count": 10,
   "id": "98c231e1",
   "metadata": {},
   "outputs": [
    {
     "name": "stdout",
     "output_type": "stream",
     "text": [
      "-----------METRICS-----------\n",
      "Accuracy score: 0.8246753246753247\n",
      "Precision score: 0.7631578947368421\n",
      "Recall score: 0.6170212765957447\n",
      "F1 score: 0.6823529411764706\n",
      "ROC-AUC score: 0.7664545635315172\n",
      "PR score: 0.5877677753377641\n"
     ]
    }
   ],
   "source": [
    "# print metrics\n",
    "from sklearn import metrics\n",
    "print('-----------METRICS-----------')\n",
    "print('Accuracy score:', metrics.accuracy_score(y_test, y_hat))\n",
    "print('Precision score:', metrics.precision_score(y_test, y_hat))\n",
    "print('Recall score:', metrics.recall_score(y_test, y_hat))\n",
    "print('F1 score:', metrics.f1_score(y_test, y_hat))\n",
    "print('ROC-AUC score:', metrics.roc_auc_score(y_test, y_hat))\n",
    "print('PR score:', metrics.average_precision_score(y_test,y_hat))"
   ]
  },
  {
   "cell_type": "code",
   "execution_count": 11,
   "id": "8dbbab43",
   "metadata": {},
   "outputs": [
    {
     "data": {
      "image/png": "[encoded data removed]",
      "text/plain": [
       "<Figure size 432x288 with 1 Axes>"
      ]
     },
     "metadata": {
      "needs_background": "light"
     },
     "output_type": "display_data"
    }
   ],
   "source": [
    "# Confusion Matrix\n",
    "from sklearn.metrics import confusion_matrix\n",
    "cm = confusion_matrix(y_test, y_hat)\n",
    "from mlxtend.plotting import plot_confusion_matrix\n",
    "fig, ax = plot_confusion_matrix(conf_mat=cm, cmap='Spectral_r')\n",
    "plt.title('Confusion Matrix')\n",
    "plt.show()"
   ]
  },
  {
   "cell_type": "markdown",
   "id": "49885241",
   "metadata": {},
   "source": [
    "# Alternate method to find metric scores:"
   ]
  },
  {
   "cell_type": "code",
   "execution_count": 12,
   "id": "6df12afc",
   "metadata": {},
   "outputs": [],
   "source": [
    "# set to probability of the class most likely to be the correct one\n",
    "y_prob = log_reg.predict_proba(X_test)[:,1]\n",
    "# convert to numpy array\n",
    "y_prob = np.array(y_prob)\n",
    "# thresholds array\n",
    "thresholds = [0.0, 0.05, 0.1, 0.15, 0.2, 0.25, 0.3, 0.35, 0.4, 0.45, 0.5, 0.55, 0.6, 0.65, 0.7, 0.75, 0.8, 0.85, 0.9, 0.95, 1.0]\n",
    "\n",
    "# new values to calculate based on the threshold values\n",
    "true_pos = 0\n",
    "true_neg = 0\n",
    "false_pos = 0\n",
    "false_neg = 0\n",
    "\n",
    "# array to store roc values\n",
    "roc_vals = []\n",
    "# array to store prec-recall values\n",
    "pr_vals = []\n",
    "# array to store f1 scores\n",
    "f1_vals = []"
   ]
  },
  {
   "cell_type": "code",
   "execution_count": 13,
   "id": "246b85a5",
   "metadata": {},
   "outputs": [],
   "source": [
    "# loop through threshold array\n",
    "# simultaneously calculate values for tpr, fpr (needed for ROC curve) and precision, recall (needed for PR curve)\n",
    "for t in thresholds:\n",
    "    for i in range(len(y_test)):\n",
    "        # if probability is greater than threshold\n",
    "        if y_prob[i] >= t:\n",
    "            # predict 1\n",
    "            pred = 1\n",
    "        else:\n",
    "            # else predict 0\n",
    "            pred = 0\n",
    "\n",
    "        # calculations for tp, fn, fp, tn\n",
    "        if pred == 1 and y_test[i] == 1:\n",
    "            true_pos += 1\n",
    "        elif pred == 0 and y_test[i] == 1:\n",
    "            false_neg += 1\n",
    "        elif pred == 1 and y_test[i] == 0:\n",
    "            false_pos += 1\n",
    "        elif pred == 0 and y_test[i] == 0:\n",
    "            true_neg += 1\n",
    "\n",
    "    # true positive rate calculation\n",
    "    tpr = true_pos / (true_pos + false_neg)\n",
    "    # false positive rate calculation\n",
    "    fpr = false_pos / (true_neg + false_pos)\n",
    "\n",
    "    # precision calculation\n",
    "    prec = true_pos / (true_pos + false_pos)\n",
    "    # recall calculation\n",
    "    rec = true_pos / (true_pos + false_neg)\n",
    "\n",
    "    # append fpr, tpr values to the roc array\n",
    "    roc_vals.append([fpr, tpr])\n",
    "    # append rec, prec values to the pr array\n",
    "    pr_vals.append([rec, prec])\n",
    "    # append f1 score to the f1 array\n",
    "    f1_vals.append((2*prec*rec)/(prec+rec))\n"
   ]
  },
  {
   "cell_type": "code",
   "execution_count": 14,
   "id": "7106c2b3",
   "metadata": {},
   "outputs": [
    {
     "data": {
      "image/png": "[encoded data removed]",
      "text/plain": [
       "<Figure size 432x288 with 1 Axes>"
      ]
     },
     "metadata": {
      "needs_background": "light"
     },
     "output_type": "display_data"
    }
   ],
   "source": [
    "from sklearn.metrics import auc\n",
    "\n",
    "# data frame to store roc values\n",
    "roc_graph = pd.DataFrame(roc_vals, columns=['X', 'y'])\n",
    "# calculation of AUC-ROC\n",
    "auc_of_roc = auc(roc_graph.X, roc_graph.y)\n",
    "# plot the data frame\n",
    "plt.plot(roc_graph.X, roc_graph.y, color='b', marker='o')\n",
    "plt.title('ROC Curve, AUC = %.3f'%auc_of_roc)\n",
    "plt.xlabel('False Positive Rate')\n",
    "plt.ylabel('True Positive Rate')\n",
    "plt.show()"
   ]
  },
  {
   "cell_type": "code",
   "execution_count": 15,
   "id": "e5ca0e37",
   "metadata": {},
   "outputs": [
    {
     "data": {
      "image/png": "[encoded data removed]",
      "text/plain": [
       "<Figure size 432x288 with 1 Axes>"
      ]
     },
     "metadata": {
      "needs_background": "light"
     },
     "output_type": "display_data"
    }
   ],
   "source": [
    "# data frame to store pr values\n",
    "pr_graph = pd.DataFrame(pr_vals, columns=['X', 'y'])\n",
    "# calculation of AUC-PR\n",
    "auc_of_pr = auc(pr_graph.X, pr_graph.y)\n",
    "# plot the data frame\n",
    "plt.plot(pr_graph.X, pr_graph.y, color='m', marker='o')\n",
    "plt.title('Precision-Recall Curve, AUC = %.3f'%auc_of_pr)\n",
    "plt.xlabel('Recall')\n",
    "plt.ylabel('Precision')\n",
    "plt.show()"
   ]
  },
  {
   "cell_type": "code",
   "execution_count": 16,
   "id": "aeec0f6d",
   "metadata": {},
   "outputs": [
    {
     "name": "stdout",
     "output_type": "stream",
     "text": [
      "Best Threshold: t = 0.65 where F1 = 0.602076124567474\n"
     ]
    }
   ],
   "source": [
    "print('Best Threshold: t =', thresholds[np.argmax(f1_vals)], 'where F1 =', f1_vals[np.argmax(f1_vals)])"
   ]
  },
  {
   "cell_type": "markdown",
   "id": "c20506a0",
   "metadata": {},
   "source": [
    "# Observations\n",
    "Looping through a threshold array and plotting the AUC-ROC curve and the PR curve allowed me to optimize metrics other than accuracy, because it allowed for more datapoints to be correctly classified. "
   ]
  },
  {
   "cell_type": "code",
   "execution_count": null,
   "id": "90ce9458",
   "metadata": {},
   "outputs": [],
   "source": []
  }
 ],
 "metadata": {
  "kernelspec": {
   "display_name": "Python 3",
   "language": "python",
   "name": "python3"
  },
  "language_info": {
   "codemirror_mode": {
    "name": "ipython",
    "version": 3
   },
   "file_extension": ".py",
   "mimetype": "text/x-python",
   "name": "python",
   "nbconvert_exporter": "python",
   "pygments_lexer": "ipython3",
   "version": "3.8.8"
  }
 },
 "nbformat": 4,
 "nbformat_minor": 5
}
